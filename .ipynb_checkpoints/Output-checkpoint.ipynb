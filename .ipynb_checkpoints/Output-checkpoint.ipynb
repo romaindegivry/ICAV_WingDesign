{
 "cells": [
  {
   "cell_type": "markdown",
   "metadata": {},
   "source": [
    "## Wing sizing script\n",
    "\n",
    "The aim of this script is to provide a basis for the prediction of stresses and deflections of the beam\n",
    "This method will employ a simple FEM code to analyse a half wing under load.\n",
    "\n",
    "First we perform some imports"
   ]
  },
  {
   "cell_type": "code",
   "execution_count": 4,
   "metadata": {},
   "outputs": [],
   "source": [
    "import numpy as np\n",
    "import matplotlib.pyplot as plt\n",
    "\n",
    "import src.deps.beamfe.beamfe as FEM\n",
    "GSI = 9.81"
   ]
  },
  {
   "cell_type": "markdown",
   "metadata": {},
   "source": [
    "The next cells deals with the mesh creation, the wing is discretised as a simple 3D slender beam"
   ]
  },
  {
   "cell_type": "code",
   "execution_count": 5,
   "metadata": {},
   "outputs": [],
   "source": [
    "#Calculating node positions\n",
    "def Nodes(xStart,xEnd,number):\n",
    "    #Convert two 3-vectors, xStart, xend into a vector and mesh\n",
    "    L = np.linalg.norm(xStart-xEnd) #Length of the beam\n",
    "    n = (xEnd-xStart)/L\n",
    "    return n, L, np.linspace(0,L,num=number)"
   ]
  },
  {
   "cell_type": "code",
   "execution_count": 6,
   "metadata": {},
   "outputs": [],
   "source": [
    "#Building mesh\n",
    "Nnodes =100\n",
    "root = np.array([0,0,0])\n",
    "tip = np.array([0,2002.0/2*1e-3,0])\n",
    "direction, length, nodes = Nodes(root,tip,Nnodes)"
   ]
  },
  {
   "cell_type": "markdown",
   "metadata": {},
   "source": [
    "Then we define the methods necessary to calculate the sectionnal properties of the beam.\n",
    "\n",
    "The beam is modeled as a CF-foam-CF sandwich beam.\n",
    "\n",
    "<img src=\"sandwichBeam.jpg\" alt=\"drawing\" width=\"200\"/>\n",
    "\n",
    "The equations for the moments of area, area and (linear)density are derived as:\n",
    "\n",
    "$$(EI)_y = E_{cf}\\left(\\frac{bt^3}{6} + \\frac{bt(c+t)^2}{2}\\right) + E_{foam}\\frac{bc^3}{12}$$\n",
    "\n",
    "$$(EI)_z = E_{cf}\\frac{tb^3}{6} + E_{foam}\\frac{cb^3}{12}$$\n",
    "\n",
    "$$A = (2t+c)b$$\n",
    "\n",
    "Desity and EA are obtained by simple mixing rules\n",
    "\n",
    "$c, t, b$ are all functions of $x$ and decision parameters"
   ]
  },
  {
   "cell_type": "code",
   "execution_count": null,
   "metadata": {},
   "outputs": [],
   "source": [
    "def EILayered(plate, core, b, t, c):\n",
    "    #use formula to compyte the equivalent EI\n",
    "    EIz = plate['E']*((b*t**3)/(6) + (b*t*(c+t)**2)/2) + core['E']*(b*c**3)/12\n",
    "    EIy = plate['E']*((b**3*t)/6) + core['E']*(c*b**3)/12\n",
    "    return EIy, EIz\n",
    "\n",
    "def EALayered(plate, core, b, t, c):\n",
    "    #compute the area of the plate\n",
    "    return plate['E']*2*t*b + core['E']*c*b\n",
    "\n",
    "def densityLayered(plate, core, b,t,c):\n",
    "    return (2*t*plate['rho'] + c*core['rho'])/(c+2*t)"
   ]
  },
  {
   "cell_type": "code",
   "execution_count": null,
   "metadata": {},
   "outputs": [],
   "source": [
    "#problem properties\n",
    "fibre = {'E' : 33e9, 'rho' : 1666.6,'sigTens': 400,'sigComp' : 200}\n",
    "foam = {'E' : 1.9e9, 'rho' : 30.0,'sigTens': 22,'sigComp' : 22}\n",
    "\n",
    "b = np.ones(Nnodes)*0.020\n",
    "t = np.ones(Nnodes)*1e-3*2\n",
    "chord = np.linspace(0.3,0.15,num=Nnodes)\n",
    "c = np.linspace(0.03,0.015,num=Nnodes)\n",
    "\n",
    "EIy, EIz = EILayered(fibre, foam, b,t,c)\n",
    "EA = EALayered(fibre, foam, b,t,c)\n",
    "density = densityLayered(fibre, foam, b,t,c)"
   ]
  },
  {
   "cell_type": "markdown",
   "metadata": {},
   "source": [
    "We define two simple load cases:\n",
    "    - Aerodynamic\n",
    "    - Inertial (weight) \n",
    "The safety factor applied is $2.5\\times1.2 = n\\times1.2$\n",
    "\n",
    "The aerodynamic load case is computed from a simple elliptic distribution:\n",
    "\n",
    "$$ p_{aero}(x) = \\frac{mgnf_{safety}}{\\pi L^2}\\sqrt{L^2-x^2}$$"
   ]
  },
  {
   "cell_type": "code",
   "execution_count": null,
   "metadata": {},
   "outputs": [],
   "source": [
    "#Load cases\n",
    "safetyFactor = 1.2\n",
    "maxLoadFactor = 2.5\n",
    "weight_N = 6.9*GSI*safetyFactor*maxLoadFactor\n",
    "LD_2D = 15\n",
    "load = np.zeros((6,Nnodes))\n",
    "\n",
    "lift = (weight_N*2)/(np.pi*length**2)*np.sqrt(length**2-nodes**2)\n",
    "drag = lift/LD_2D\n",
    "weight = -GSI*density*b*(2*t+c)*maxLoadFactor*safetyFactor\n",
    "load[2,:] = lift + weight\n",
    "load[1,:] = drag\n",
    "assert(np.abs(np.trapz(lift,x=nodes)/(GSI*2.5*1.2)*2 - 6.9) < 0.05) #check that lift is below 50g off"
   ]
  },
  {
   "cell_type": "markdown",
   "metadata": {},
   "source": [
    "Solving the problem with one clamped beam end, and on all Dof except rotation because calculating $(GJ)_x$ is difficult. "
   ]
  },
  {
   "cell_type": "code",
   "execution_count": null,
   "metadata": {},
   "outputs": [],
   "source": [
    "#Step 4: Initialise the solver\n",
    "def solve(load,nodes,density,EA,EIy,EIz):\n",
    "    load = FEM.interleave(load.T)\n",
    "    prob = FEM.BeamFE(nodes,density,EA,EIy,EIz)\n",
    "    prob.set_boundary_conditions(left='C',right='F')\n",
    "    prob.set_dofs([True,True,True,False,True,True])\n",
    "    return prob.static_deflection(prob.distribute_load(load))[0]\n",
    "x = solve(load,nodes,density,EA,EIy,EIz)"
   ]
  },
  {
   "cell_type": "code",
   "execution_count": null,
   "metadata": {},
   "outputs": [],
   "source": [
    "δ = FEM.deleave(x)\n",
    "disp = {'x' :  δ[0,:],\n",
    "        'y' :  δ[1,:],\n",
    "        'z' :  δ[2,:],\n",
    "        'rx' : δ[3,:],\n",
    "        'ry' : δ[4,:],\n",
    "        'rz' : δ[5,:]}"
   ]
  },
  {
   "cell_type": "code",
   "execution_count": null,
   "metadata": {},
   "outputs": [],
   "source": [
    "#Displacement\n",
    "fig, axs = plt.subplots(nrows=3)\n",
    "axs[0].plot(nodes,disp['z'],'+',c='red',ms=2,label='FE solution')\n",
    "axs[0].plot(nodes,nodes*0,'--k',label='Unloaded')\n",
    "axs[0].legend()\n",
    "axs[0].set_xlabel('Distance from root [m]')\n",
    "axs[0].set_ylabel('Displacement [m]')\n",
    "axs[0].grid(True)\n",
    "axs[0].set_title(\"Vertical displacement\")\n",
    "\n",
    "axs[1].plot(nodes,disp['y'],'+',c='red',ms=1.6,label='FE solution')\n",
    "axs[1].plot(nodes,nodes*0,'--k',label='Unloaded')\n",
    "axs[1].legend()\n",
    "axs[1].set_xlabel('Distance from root [m]')\n",
    "axs[1].set_ylabel('Displacement [m]')\n",
    "axs[1].grid(True)\n",
    "axs[1].set_title(\"Backwards displacement\")\n",
    "\n",
    "\n",
    "axs[2].plot(nodes,disp['x'],'+',c='red',ms=1.6,label='FE solution')\n",
    "axs[2].plot(nodes,nodes[::-1]*0,'--k',label='Unloaded')\n",
    "axs[2].legend()\n",
    "axs[2].set_xlabel('Distance from root [m]')\n",
    "axs[2].set_ylabel('Displacement [m]')\n",
    "axs[2].grid(True)\n",
    "axs[2].set_title(\"Spanwise displacement\")\n",
    "\n",
    "\n",
    "fig.set_size_inches((10,9))\n",
    "fig.tight_layout()\n"
   ]
  },
  {
   "cell_type": "code",
   "execution_count": null,
   "metadata": {},
   "outputs": [],
   "source": [
    "#Load visualisation\n",
    "fig, axs = plt.subplots(nrows=3)\n",
    "axs[0].plot(nodes,nodes*0,'k')\n",
    "axs[0].fill_between(nodes,0,lift,label='Aerodynamic load',hatch='',edgecolor='red',alpha=0.5,facecolor='red')\n",
    "axs[0].fill_between(nodes,0,weight,label='Weight',hatch='',edgecolor='blue',alpha=0.5,facecolor='darkblue')\n",
    "axs[0].legend()\n",
    "axs[0].set_xlabel('Distance along the wing [m]')\n",
    "axs[0].set_ylabel('Loading [N/m]')\n",
    "axs[0].set_title(r'$-\\vecz$ load')\n",
    "axs[0].grid(True)\n",
    "\n",
    "axs[1].plot(nodes,nodes*0,'k')\n",
    "axs[1].fill_between(nodes,0,drag,label='Aerodynamic load',hatch='',edgecolor='red',alpha=0.5,facecolor='red')\n",
    "axs[1].legend()\n",
    "axs[1].set_xlabel('Distance along the wing [m]')\n",
    "axs[1].set_ylabel('Loading [N/m]')\n",
    "axs[1].set_title(r'$\\vecy$ load')\n",
    "axs[1].grid(True)\n",
    "fig.set_size_inches((10,9))\n",
    "fig.tight_layout()"
   ]
  },
  {
   "cell_type": "markdown",
   "metadata": {},
   "source": [
    "## Checking failure\n",
    "We check failure through simple beam stress computations.\n",
    "\n",
    "$$ \\sigma_{\\max,x} = \\max_{y,z} - yE\\frac{d^2w_y}{{dx}^2} -zE\\frac{d^2w_z}{{dx}^2}$$\n",
    "\n",
    "We can allow some simplifications (ie rectangular sections)"
   ]
  },
  {
   "cell_type": "code",
   "execution_count": null,
   "metadata": {
    "scrolled": true
   },
   "outputs": [],
   "source": [
    "#Step 5: Report on the design\n",
    "#Computing the stresses in the design\n",
    "\n",
    "def stressArray(rot,E,y,dx):\n",
    "    #differentiate the rotation array\n",
    "    d2w = np.diff(rot)/dx\n",
    "    #compute the stress and return\n",
    "    return -E*y[1:]*d2w\n",
    "\n",
    "def strainArray(rot,E,y,dx):\n",
    "    d2w = np.diff(rot)/dx\n",
    "    return -y[1:]*d2w\n",
    "\n",
    "def stressPlot(fig,ax,disp,fibre,foam,c,b,t,nodes):\n",
    "    #fibre: \n",
    "    fiby = np.abs(stressArray(disp['ry'],fibre['E'],c/2+t,nodes[1]-nodes[0]))\n",
    "    fomy = np.abs(stressArray(disp['ry'],foam['E'],b/2,nodes[1]-nodes[0]))\n",
    "    \n",
    "    fibz = np.abs(stressArray(disp['rz'],fibre['E'],c/2+t,nodes[1]-nodes[0]))\n",
    "    fomz = np.abs(stressArray(disp['rz'],foam['E'],b/2,nodes[1]-nodes[0]))\n",
    "    \n",
    "    #max tensile:\n",
    "    fibTens = fiby + fibz\n",
    "    fomTens = fomy + fomz\n",
    "    \n",
    "    fibAx = ax[0]\n",
    "    fomAx = ax[1]\n",
    "    \n",
    "    fibAx.plot(nodes[1:],fibTens*1e-6,c=\"darkblue\",label=\"Stress\")\n",
    "    fomAx.plot(nodes[1:],fomTens*1e-6,c=\"darkblue\",label=\"Stress\")\n",
    "    \n",
    "    fibAx.hlines(fibre['sigTens'],nodes[0],nodes[-1],linestyles= 'dashed',label=\"Tensile limit\")\n",
    "    fibAx.hlines(fibre['sigComp'],nodes[0],nodes[-1],linestyles= 'dashdot',label=\"Compressive limit\")\n",
    "    \n",
    "    fomAx.hlines(foam['sigTens'],nodes[0],nodes[-1],linestyles= 'dashed',label=\"Tensile limit\")\n",
    "    fomAx.hlines(foam['sigComp'],nodes[0],nodes[-1],linestyles= 'dashdot',label=\"Compressive limit\")\n",
    "    for AX in (fibAx, fomAx):\n",
    "        AX.grid(True)\n",
    "        AX.set_xlabel(\"Distance along the wing [m]\")\n",
    "        AX.set_ylabel(\"Max stress [MPa]\")\n",
    "        AX.legend()\n",
    "    \n",
    "    \n",
    "    if np.any(fibTens*1e-6 > min(fibre['sigTens'],fibre['sigComp'])):\n",
    "        return False, \"Fibres fails\"\n",
    "    elif np.any(fomTens*1e-6 > min(foam['sigTens'],foam['sigComp'])):\n",
    "        return False, \"Foam fails\"\n",
    "    else:\n",
    "        return True\n",
    "#stresses due to bending in Y\n",
    "\n",
    "fig,ax = plt.subplots(ncols = 2,sharey=True)\n",
    "fig.set_size_inches((10,3.5))\n",
    "stressPlot(fig,ax,disp,fibre,foam,c,b,t,nodes)"
   ]
  },
  {
   "cell_type": "code",
   "execution_count": null,
   "metadata": {},
   "outputs": [],
   "source": [
    "def polygon_area(x,y):\n",
    "    correction = x[-1] * y[0] - y[-1]* x[0]\n",
    "    main_area = np.dot(x[:-1], y[1:]) - np.dot(y[:-1], x[1:])\n",
    "    return 0.5*np.abs(main_area + correction)"
   ]
  },
  {
   "cell_type": "code",
   "execution_count": null,
   "metadata": {},
   "outputs": [],
   "source": [
    "#mass evaluation\n",
    "area = 1.47\n",
    "#calculate the wetted area\n",
    "af = np.genfromtxt('../in/6043.dat')\n",
    "specSurf = np.sum([np.sqrt((af[i+1,0]-af[i,0])**2+(af[i+1,1]-af[i,1])**2) for i in range(len(af)-1)])\n",
    "Swet = 2*np.trapz(specSurf*chord,x=nodes)\n",
    "specSection = polygon_area(af[:,0],af[:,1])\n",
    "volume = 2*np.trapz(specSection*chord**2,x=nodes)\n",
    "mass = 0 + Swet *0.08\n",
    "print(\"Estimated mass of the film: {:3.3f} [kg]\".format(mass))\n",
    "massinc = 2*np.trapz(foam['rho']*b*c + fibre['rho']*b*t*2,x=nodes)\n",
    "mass += massinc\n",
    "print(\"Estimated mass of the beam: {:3.3f} [kg]\".format(massinc))\n",
    "massinc = volume*.5*foam['rho']\n",
    "mass += massinc\n",
    "print(\"Estimated mass of the ribs: {:3.3f} [kg]\".format(massinc))\n",
    "print(\"Estimated mass: {:3.3f} [kg]\".format(mass))"
   ]
  }
 ],
 "metadata": {
  "kernelspec": {
   "display_name": "Python 3",
   "language": "python",
   "name": "python3"
  },
  "language_info": {
   "codemirror_mode": {
    "name": "ipython",
    "version": 3
   },
   "file_extension": ".py",
   "mimetype": "text/x-python",
   "name": "python",
   "nbconvert_exporter": "python",
   "pygments_lexer": "ipython3",
   "version": "3.6.6"
  }
 },
 "nbformat": 4,
 "nbformat_minor": 2
}
